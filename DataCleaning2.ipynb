{
 "cells": [
  {
   "cell_type": "code",
   "execution_count": 1,
   "id": "fdf99e2b",
   "metadata": {},
   "outputs": [],
   "source": [
    "import pandas as pd"
   ]
  },
  {
   "cell_type": "code",
   "execution_count": 2,
   "id": "4bf6f5b0",
   "metadata": {},
   "outputs": [],
   "source": [
    "# read in data\n",
    "\n",
    "file_one = \"Data/yearlyStateValue.csv\"\n",
    "file_two = \"Data/CensusData.csv\""
   ]
  },
  {
   "cell_type": "code",
   "execution_count": 3,
   "id": "bf4c9591",
   "metadata": {},
   "outputs": [],
   "source": [
    "#convert to dataframe\n",
    "\n",
    "yearly_state_df = pd.read_csv(file_one)\n",
    "census_data_df = pd.read_csv(file_two)"
   ]
  },
  {
   "cell_type": "code",
   "execution_count": 4,
   "id": "88f03033",
   "metadata": {},
   "outputs": [],
   "source": [
    "#remove rows with years before 2010 and regions\n",
    "clean_census_df = census_data_df[(census_data_df['Year'] == 2020) & (census_data_df['GeographyType'] == 'State')]\n",
    "\n",
    "# remove unnecessary data\n",
    "final_census_df = clean_census_df[['Name','Year','PercentChangeInResidentPopulation']]"
   ]
  },
  {
   "cell_type": "code",
   "execution_count": 5,
   "id": "87ef29a4",
   "metadata": {},
   "outputs": [],
   "source": [
    "# remove unnecessary data\n",
    "\n",
    "clean_state_df = yearly_state_df[['RegionName', '2010', '2020']]"
   ]
  },
  {
   "cell_type": "code",
   "execution_count": 6,
   "id": "1f0754be",
   "metadata": {},
   "outputs": [],
   "source": [
    "# function to calculate percent change\n",
    "\n",
    "def percentage_change(col1,col2):\n",
    "    return ((col2 - col1) / col1) * 100"
   ]
  },
  {
   "cell_type": "code",
   "execution_count": 8,
   "id": "8d952920",
   "metadata": {},
   "outputs": [
    {
     "name": "stderr",
     "output_type": "stream",
     "text": [
      "/var/folders/57/5k27lmz94mz4gw93pql15n340000gn/T/ipykernel_74143/1574020255.py:3: SettingWithCopyWarning: \n",
      "A value is trying to be set on a copy of a slice from a DataFrame.\n",
      "Try using .loc[row_indexer,col_indexer] = value instead\n",
      "\n",
      "See the caveats in the documentation: https://pandas.pydata.org/pandas-docs/stable/user_guide/indexing.html#returning-a-view-versus-a-copy\n",
      "  clean_state_df['SalePercentChange'] = percentage_change(clean_state_df['2010'],clean_state_df['2020'])\n"
     ]
    }
   ],
   "source": [
    "# calculate percent change\n",
    "\n",
    "clean_state_df['SalePercentChange'] = percentage_change(clean_state_df['2010'],clean_state_df['2020'])"
   ]
  },
  {
   "cell_type": "code",
   "execution_count": 9,
   "id": "fd693e36",
   "metadata": {},
   "outputs": [],
   "source": [
    "#rename column for merge\n",
    "final_state_df = clean_state_df.rename(columns={\"RegionName\": \"Name\"})"
   ]
  },
  {
   "cell_type": "code",
   "execution_count": 10,
   "id": "f9e0fbea",
   "metadata": {},
   "outputs": [],
   "source": [
    "# merge columns\n",
    "\n",
    "merge_df = pd.merge(final_state_df, final_census_df, on=\"Name\")"
   ]
  },
  {
   "cell_type": "code",
   "execution_count": 11,
   "id": "53ef0fca",
   "metadata": {},
   "outputs": [],
   "source": [
    "# clean dataframe\n",
    "\n",
    "population_price_df = merge_df[['SalePercentChange', 'PercentChangeInResidentPopulation', 'Name']]\n",
    "population_price_df = population_price_df.sort_values('Name').reset_index(drop=True)"
   ]
  },
  {
   "cell_type": "code",
   "execution_count": 12,
   "id": "fa807ba6",
   "metadata": {},
   "outputs": [
    {
     "data": {
      "text/html": [
       "<div>\n",
       "<style scoped>\n",
       "    .dataframe tbody tr th:only-of-type {\n",
       "        vertical-align: middle;\n",
       "    }\n",
       "\n",
       "    .dataframe tbody tr th {\n",
       "        vertical-align: top;\n",
       "    }\n",
       "\n",
       "    .dataframe thead th {\n",
       "        text-align: right;\n",
       "    }\n",
       "</style>\n",
       "<table border=\"1\" class=\"dataframe\">\n",
       "  <thead>\n",
       "    <tr style=\"text-align: right;\">\n",
       "      <th></th>\n",
       "      <th>SalePercentChange</th>\n",
       "      <th>PercentChangeInResidentPopulation</th>\n",
       "      <th>Name</th>\n",
       "    </tr>\n",
       "  </thead>\n",
       "  <tbody>\n",
       "    <tr>\n",
       "      <th>0</th>\n",
       "      <td>52.893322</td>\n",
       "      <td>5.1</td>\n",
       "      <td>Alabama</td>\n",
       "    </tr>\n",
       "    <tr>\n",
       "      <th>1</th>\n",
       "      <td>31.452356</td>\n",
       "      <td>3.3</td>\n",
       "      <td>Alaska</td>\n",
       "    </tr>\n",
       "    <tr>\n",
       "      <th>2</th>\n",
       "      <td>90.574142</td>\n",
       "      <td>11.9</td>\n",
       "      <td>Arizona</td>\n",
       "    </tr>\n",
       "    <tr>\n",
       "      <th>3</th>\n",
       "      <td>39.743391</td>\n",
       "      <td>3.3</td>\n",
       "      <td>Arkansas</td>\n",
       "    </tr>\n",
       "    <tr>\n",
       "      <th>4</th>\n",
       "      <td>88.125734</td>\n",
       "      <td>6.1</td>\n",
       "      <td>California</td>\n",
       "    </tr>\n",
       "  </tbody>\n",
       "</table>\n",
       "</div>"
      ],
      "text/plain": [
       "   SalePercentChange  PercentChangeInResidentPopulation        Name\n",
       "0          52.893322                                5.1     Alabama\n",
       "1          31.452356                                3.3      Alaska\n",
       "2          90.574142                               11.9     Arizona\n",
       "3          39.743391                                3.3    Arkansas\n",
       "4          88.125734                                6.1  California"
      ]
     },
     "execution_count": 12,
     "metadata": {},
     "output_type": "execute_result"
    }
   ],
   "source": [
    "population_price_df.head()"
   ]
  },
  {
   "cell_type": "code",
   "execution_count": 13,
   "id": "65551fa5",
   "metadata": {},
   "outputs": [],
   "source": [
    "# export data frame to csv\n",
    "population_price_df.to_csv(\"Data/PopulationAndPriceChange.csv\", index=False, header=True)"
   ]
  },
  {
   "cell_type": "code",
   "execution_count": 15,
   "id": "8b14840f",
   "metadata": {},
   "outputs": [],
   "source": [
    "#export data to json\n",
    "population_price_df.to_json('Data/PopulationAndPriceChange.json', orient='records')"
   ]
  },
  {
   "cell_type": "code",
   "execution_count": null,
   "id": "48f7acab",
   "metadata": {},
   "outputs": [],
   "source": []
  }
 ],
 "metadata": {
  "kernelspec": {
   "display_name": "Python 3 (ipykernel)",
   "language": "python",
   "name": "python3"
  },
  "language_info": {
   "codemirror_mode": {
    "name": "ipython",
    "version": 3
   },
   "file_extension": ".py",
   "mimetype": "text/x-python",
   "name": "python",
   "nbconvert_exporter": "python",
   "pygments_lexer": "ipython3",
   "version": "3.9.13"
  }
 },
 "nbformat": 4,
 "nbformat_minor": 5
}
